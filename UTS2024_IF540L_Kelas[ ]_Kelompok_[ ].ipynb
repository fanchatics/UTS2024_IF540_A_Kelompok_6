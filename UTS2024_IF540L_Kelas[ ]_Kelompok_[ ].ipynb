{
 "cells": [
  {
   "cell_type": "markdown",
   "id": "5ffb6ee5",
   "metadata": {},
   "source": [
    "## <div align=\"center\"> UJIAN TENGAH SEMESTER IF540-L MACHINE LEARNING </div>\n",
    "## <div align=\"center\"> Semester Gasal 2024/2025 </div>\n",
    "## <div align=\"center\"> [Judul Proyek] </div>"
   ]
  },
  {
   "cell_type": "markdown",
   "id": "d4aa3c83",
   "metadata": {},
   "source": [
    "---\n",
    "### Kelompok - [isi nomor kelompok]\n",
    "\n",
    "#### Anggota Kelompok : \n",
    "1. \n",
    "2.\n",
    "3.\n",
    "4.\n",
    "..."
   ]
  },
  {
   "cell_type": "markdown",
   "id": "969da47d",
   "metadata": {},
   "source": [
    "---\n",
    "\n",
    "### Dataset yang digunakan untuk projek:\n",
    "\n",
    "1. [Nama dataset1] – sumber : [cantumkan link dataset]\n",
    "\n",
    "### Hasil kerja"
   ]
  },
  {
   "cell_type": "code",
   "execution_count": null,
   "id": "38cf589a",
   "metadata": {},
   "outputs": [],
   "source": [
    "# Your codes are here (replace the following codes)\n",
    "import time\n",
    "time.sleep(10)"
   ]
  },
  {
   "cell_type": "code",
   "execution_count": null,
   "id": "ff04aba1",
   "metadata": {},
   "outputs": [],
   "source": [
    "!jupyter nbconvert --to html \"./UTS2024_IF540L_KelasAL_Kelompok_1.ipynb\" --output-dir=\"./\""
   ]
  },
  {
   "cell_type": "markdown",
   "id": "0d142d46",
   "metadata": {},
   "source": [
    "### Next step:\n",
    "* convert the generated html file to PDF using the online tool: https://www.sejda.com/html-to-pdf\n",
    "* choose the following settings:\n",
    "    * Page size: One long page\n",
    "    * Page Orientation: auto\n",
    "    * Use print stylesheet\n",
    "* Submit your ipython notebook and PDF files\n",
    "\n",
    "Markdown basics https://markdown-guide.readthedocs.io/en/latest/basics.html#"
   ]
  }
 ],
 "metadata": {
  "kernelspec": {
   "display_name": "Python 3 (ipykernel)",
   "language": "python",
   "name": "python3"
  },
  "language_info": {
   "codemirror_mode": {
    "name": "ipython",
    "version": 3
   },
   "file_extension": ".py",
   "mimetype": "text/x-python",
   "name": "python",
   "nbconvert_exporter": "python",
   "pygments_lexer": "ipython3",
   "version": "3.9.12"
  }
 },
 "nbformat": 4,
 "nbformat_minor": 5
}
